{
 "metadata": {
  "name": "attendence"
 },
 "nbformat": 3,
 "nbformat_minor": 0,
 "worksheets": [
  {
   "cells": [
    {
     "cell_type": "code",
     "collapsed": false,
     "input": [
      "import numpy as np\n",
      "import matplotlib.pyplot as plt\n",
      "\n",
      "x = np.array([12,8,10,8,8,7,10,10,10,9,9,9,11,7,10,11,8,13,6])\n",
      "\n",
      "# the histogram of the data\n",
      "n, bins, patches = plt.hist(x, 7, facecolor='g', alpha=0.75)\n",
      "\n",
      "plt.xlabel('Number of attendees')\n",
      "plt.ylabel('Frequency')\n",
      "plt.title('Number of attendees at RA1 meetings in 2013')\n",
      "plt.axis([5, 15, 0, 8])\n",
      "plt.grid(True)\n",
      "plt.show()\n"
     ],
     "language": "python",
     "metadata": {},
     "outputs": [],
     "prompt_number": 34
    }
   ],
   "metadata": {}
  }
 ]
}