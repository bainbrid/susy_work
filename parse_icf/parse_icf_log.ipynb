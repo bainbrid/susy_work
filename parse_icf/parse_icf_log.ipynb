{
 "metadata": {
  "name": "parse_icf_log"
 },
 "nbformat": 3,
 "nbformat_minor": 0,
 "worksheets": [
  {
   "cells": [
    {
     "cell_type": "code",
     "collapsed": false,
     "input": [
      "%run /Users/bainbrid/Documents/WORK/susy/inventory/susy_work/utils/parse_icf_log.py\n",
      "\n",
      "print pd.DataFrame( cache )\n"
     ],
     "language": "python",
     "metadata": {},
     "outputs": [
      {
       "output_type": "stream",
       "stream": "stdout",
       "text": [
        "                                                           160       170       180       190\n",
        "NumComJets Operation (num unsigned int >= 2)          0.260156  0.187133  0.129165  0.104342\n",
        "Check if an event failed noise filtering criteria     1.000000  1.000000  1.000000  1.000000\n",
        "Check if an event failed Good event selection         1.000000  1.000000  1.000000  1.000000\n",
        "Check if an event failed 2012 8TeV MET Filters        1.000000  1.000000  1.000000  1.000000\n",
        "Veto Events with sum of cleaned rechits above 30 GeV  1.000000  1.000000  1.000000  1.000000\n",
        "first Jet Eta < 2.5 rad):                             0.960414  0.954328  0.949327  0.944952\n",
        "Second jet Pt > 100 GeV:                              0.155239  0.157588  0.189168  0.220731\n",
        "Check if a jet failed loose quality criteria          0.976156  0.979601  0.979967  0.979324\n",
        "Bad muon in a Jet                                     0.998635  0.998923  0.998611  0.999149\n",
        "Check if a electron failed loose quality criteria     1.000000  1.000000  1.000000  1.000000\n",
        "Check if a photon failed loose quality criteria       1.000000  1.000000  1.000000  1.000000\n",
        "NumComElectrons Operation (num unsigned int <= 0)     0.999856  0.999921  0.999948  1.000000\n",
        "Number of Common Photons unsigned int <= 0)           0.996808  0.997943  0.997618  0.998120\n",
        "Checking that  sum Vertex Pt / HT is  > 0.1           1.000000  1.000000  1.000000  1.000000\n",
        "NumComMuons Operation (num unsigned int <= 0)         0.999852  0.999811  0.999858  0.999895\n",
        "Alpha_t  > 0.55 GeV):                                 0.175226  0.259053  0.359926  0.396830\n",
        "Dead ECAL cut 0.3                                     0.836950  0.855318  0.879544  0.930514\n",
        "Passing MHT over MET cut of: 1.25                     0.843709  0.849618  0.870388  0.913173\n"
       ]
      }
     ],
     "prompt_number": 38
    }
   ],
   "metadata": {}
  }
 ]
}