{
 "metadata": {
  "name": "parse_icf_psets"
 },
 "nbformat": 3,
 "nbformat_minor": 0,
 "worksheets": [
  {
   "cells": [
    {
     "cell_type": "code",
     "collapsed": false,
     "input": [
      "#path = \"/Users/bainbrid/Documents/WORK/susy/latest/SUSY2/samples/python/data/Run2012/FNAL/HCP\"\n",
      "path = \"/Users/bainbrid/Documents/WORK/susy/latest/SUSY2/samples/python/montecarlo/Summer12/FNAL/HCP/\"\n",
      "\n",
      "datasets = [\"HT\",\\\n",
      "            \"JetHT\",\\\n",
      "            \"HTMHT\",\\\n",
      "            \"MinimumBias\",\\\n",
      "            \"PAPhysics\",\\\n",
      "            \"SingleMu\",\\\n",
      "            \"DoubleMu\",\\\n",
      "            \"Photon\",\\\n",
      "            \"SinglePhoton\"\\\n",
      "            \"MuHad\",\\\n",
      "            \"ElectronHad\",\\\n",
      "             ]\n",
      "     \n",
      "import os\n",
      "files = os.listdir(path)\n",
      "\n",
      "files = [ file for file in files if ( file.count(\"__.py\") == 0 and file.count(\".svn\") == 0 and file.count(\".py\") > 0 ) ]\n",
      "\n",
      "d = {}\n",
      "for i,file in enumerate(files) :\n",
      "    filename = path + \"/\" + file\n",
      "    f = open(filename,\"r\")\n",
      "    lines = f.readlines()\n",
      "\n",
      "    print f\n",
      "    \n",
      "    datasset = \"\"\n",
      "    for name in datasets :\n",
      "        if filename.count(name+\"_\") > 0 :\n",
      "            dataset = name\n",
      "\n",
      "    core = \"store/user/lpcsusyra1\"\n",
      "    paths = [ core+line.split(core)[1].replace(\"//\",\"/\").split(\".root\")[0].strip()+\".root\" for line in lines if line.count(\"://\") > 0 ]\n",
      "\n",
      "    d[dataset] = paths\n",
      "    \n",
      "    f.close()\n",
      "\n",
      "#    print {x: entry for entry in d}\n",
      " #     {x: x**2 for x in (2, 4, 6)}\n",
      "#     {2: 4, 4: 16, 6: 36}\n",
      "\n",
      "print d\n",
      "\n",
      "\"DYJetsToLL\",\"GJets\",\"QCD_Pt\",\"T_s\",\"T_t\",\"T_tW\",\"\",\"\",\"\"\n"
     ],
     "language": "python",
     "metadata": {},
     "outputs": [
      {
       "output_type": "stream",
       "stream": "stdout",
       "text": [
        "<open file '/Users/bainbrid/Documents/WORK/susy/latest/SUSY2/samples/python/montecarlo/Summer12/FNAL/HCP//DYJetsToLL_HT_200To400_TuneZ2Star_8TeV_madgraph_Summer12_DR53X_PU_S10_START53_V7A_v1_V17_5_taus_0_clucasJob364.py', mode 'r' at 0x1f10c28>\n",
        "<open file '/Users/bainbrid/Documents/WORK/susy/latest/SUSY2/samples/python/montecarlo/Summer12/FNAL/HCP//DYJetsToLL_HT_400ToInf_TuneZ2Star_8TeV_madgraph_ext_Summer12_DR53X_PU_S10_START53_V7A_v1_V17_5_taus_0_karageJob499.py', mode 'r' at 0x1f10ac8>\n",
        "<open file '/Users/bainbrid/Documents/WORK/susy/latest/SUSY2/samples/python/montecarlo/Summer12/FNAL/HCP//DYJetsToLL_HT_400ToInf_TuneZ2Star_8TeV_madgraph_Summer12_DR53X_PU_S10_START53_V7A_v1_V17_5_taus_0_clucasJob364.py', mode 'r' at 0x1f10c28>\n",
        "<open file '/Users/bainbrid/Documents/WORK/susy/latest/SUSY2/samples/python/montecarlo/Summer12/FNAL/HCP//DYJetsToLL_HT_400ToInf_TuneZ2Star_8TeV_madgraph_Summer12_DR53X_PU_S10_START53_V7A_v1_V17_5_taus_0_Full.py', mode 'r' at 0x1f10ac8>\n",
        "<open file '/Users/bainbrid/Documents/WORK/susy/latest/SUSY2/samples/python/montecarlo/Summer12/FNAL/HCP//DYJetsToLL_M_10To50filter_8TeV_madgraph_Summer12_DR53X_PU_S10_START53_V7A_v1_V17_5_taus_0_clucasJob364.py', mode 'r' at 0x1f10c28>\n",
        "<open file '/Users/bainbrid/Documents/WORK/susy/latest/SUSY2/samples/python/montecarlo/Summer12/FNAL/HCP//DYJetsToLL_M_50_TuneZ2Star_8TeV_madgraph_tarball_Summer12_DR53X_PU_S10_START53_V7A_v1_V17_5_taus_0_clucasJob364.py', mode 'r' at 0x1f10ac8>\n",
        "<open file '/Users/bainbrid/Documents/WORK/susy/latest/SUSY2/samples/python/montecarlo/Summer12/FNAL/HCP//DYJetsToLL_M_50_TuneZ2Star_8TeV_madgraph_tarball_Summer12_DR53X_PU_S10_START53_V7A_v1_V17_5_taus_0_clucasJob364_skim.py', mode 'r' at 0x1f10c28>\n",
        "<open file '/Users/bainbrid/Documents/WORK/susy/latest/SUSY2/samples/python/montecarlo/Summer12/FNAL/HCP//DYJetsToLL_Yossof_Skim.py', mode 'r' at 0x1f10ac8>\n",
        "<open file '/Users/bainbrid/Documents/WORK/susy/latest/SUSY2/samples/python/montecarlo/Summer12/FNAL/HCP//GJets_HT_200To400_8TeV_madgraph_Summer12_DR53X_PU_S10_START53_V7A_v1_V17_5_taus_0_zmengJob369.py', mode 'r' at 0x1f10c28>\n",
        "<open file '/Users/bainbrid/Documents/WORK/susy/latest/SUSY2/samples/python/montecarlo/Summer12/FNAL/HCP//GJets_HT_200To400_8TeV_madgraph_v2_Summer12_DR53X_PU_S10_START53_V7A_v1_V17_5_taus_0_agapitosJob501.py', mode 'r' at 0x1f10ac8>\n",
        "<open file '/Users/bainbrid/Documents/WORK/susy/latest/SUSY2/samples/python/montecarlo/Summer12/FNAL/HCP//GJets_HT_400ToInf_8TeV_madgraph_Summer12_DR53X_PU_S10_START53_V7A_v1_V17_5_taus_0_zmengJob369.py', mode 'r' at 0x1f10c28>"
       ]
      },
      {
       "output_type": "stream",
       "stream": "stdout",
       "text": [
        "\n",
        "<open file '/Users/bainbrid/Documents/WORK/susy/latest/SUSY2/samples/python/montecarlo/Summer12/FNAL/HCP//GJets_HT_400ToInf_8TeV_madgraph_v2_Summer12_DR53X_PU_S10_START53_V7A_v1_V17_5_taus_0_agapitosJob501.py', mode 'r' at 0x1f10ac8>\n",
        "<open file '/Users/bainbrid/Documents/WORK/susy/latest/SUSY2/samples/python/montecarlo/Summer12/FNAL/HCP//QCD_Pt_0to5_TuneZ2star_8TeV_pythia6_Summer12_PU_S7_START52_V9_v1_V17_5_taus_0_agapitosJobXXX.py', mode 'r' at 0x1f10c28>\n",
        "<open file '/Users/bainbrid/Documents/WORK/susy/latest/SUSY2/samples/python/montecarlo/Summer12/FNAL/HCP//QCD_Pt_1000to1400_TuneZ2star_8TeV_pythia6_Summer12_PU_S7_START52_V9_v1_V17_5_taus_0_agapitosJobXXX.py', mode 'r' at 0x1f10ac8>\n",
        "<open file '/Users/bainbrid/Documents/WORK/susy/latest/SUSY2/samples/python/montecarlo/Summer12/FNAL/HCP//QCD_Pt_120to170_TuneZ2star_8TeV_pythia6_Summer12_DR53X_PU_S10_START53_V7A_v2_AODSIM_V17_5_taus_0_agapitosJobXXX.py', mode 'r' at 0x1f10c28>\n",
        "<open file '/Users/bainbrid/Documents/WORK/susy/latest/SUSY2/samples/python/montecarlo/Summer12/FNAL/HCP//QCD_Pt_120to170_TuneZ2star_8TeV_pythia6_Summer12_PU_S7_START52_V9_v1_V17_5_taus_0_agapitosJobXXX.py', mode 'r' at 0x1f10ac8>\n",
        "<open file '/Users/bainbrid/Documents/WORK/susy/latest/SUSY2/samples/python/montecarlo/Summer12/FNAL/HCP//QCD_Pt_1400to1800_TuneZ2star_8TeV_pythia6_Summer12_PU_S7_START52_V9_v1_V17_5_taus_0_agapitosJobXXX.py', mode 'r' at 0x1f10c28>\n",
        "<open file '/Users/bainbrid/Documents/WORK/susy/latest/SUSY2/samples/python/montecarlo/Summer12/FNAL/HCP//QCD_Pt_15to30_TuneZ2star_8TeV_pythia6_Summer12_DR53X_PU_S10_START53_V7A_v1_AODSIM_V17_5_taus_0_agapitosJobXXX.py', mode 'r' at 0x1f10ac8>\n",
        "<open file '/Users/bainbrid/Documents/WORK/susy/latest/SUSY2/samples/python/montecarlo/Summer12/FNAL/HCP//QCD_Pt_15to30_TuneZ2star_8TeV_pythia6_Summer12_PU_S7_START52_V9_v1_V17_5_taus_0_agapitosJobXXX.py', mode 'r' at 0x1f10c28>\n",
        "<open file '/Users/bainbrid/Documents/WORK/susy/latest/SUSY2/samples/python/montecarlo/Summer12/FNAL/HCP//QCD_Pt_170to300_TuneZ2star_8TeV_pythia6_Summer12_DR53X_PU_S10_START53_V7A_v1_AODSIM_V17_5_taus_0_agapitosJobXXX.py', mode 'r' at 0x1f10ac8>\n",
        "<open file '/Users/bainbrid/Documents/WORK/susy/latest/SUSY2/samples/python/montecarlo/Summer12/FNAL/HCP//QCD_Pt_170to300_TuneZ2star_8TeV_pythia6_Summer12_PU_S7_START52_V9_v1_V17_5_taus_0_agapitosJobXXX.py', mode 'r' at 0x1f10c28>\n",
        "<open file '/Users/bainbrid/Documents/WORK/susy/latest/SUSY2/samples/python/montecarlo/Summer12/FNAL/HCP//QCD_Pt_170to300_TuneZ2star_8TeV_pythia6_v2_Summer12_DR53X_PU_S10_START53_V7A_v1_V17_5_taus_0_agapitosJob502.py', mode 'r' at 0x1f10ac8>\n",
        "<open file '/Users/bainbrid/Documents/WORK/susy/latest/SUSY2/samples/python/montecarlo/Summer12/FNAL/HCP//QCD_Pt_1800_TuneZ2star_8TeV_pythia6_Summer12_PU_S7_START52_V9_v1_V17_5_taus_0_agapitosJobXXX.py', mode 'r' at 0x1f10c28>\n",
        "<open file '/Users/bainbrid/Documents/WORK/susy/latest/SUSY2/samples/python/montecarlo/Summer12/FNAL/HCP//QCD_Pt_300to470_TuneZ2star_8TeV_pythia6_Summer12_DR53X_PU_S10_START53_V7A_v1_AODSIM_V17_5_taus_0_agapitosJobXXX.py', mode 'r' at 0x1f10ac8>\n",
        "<open file '/Users/bainbrid/Documents/WORK/susy/latest/SUSY2/samples/python/montecarlo/Summer12/FNAL/HCP//QCD_Pt_300to470_TuneZ2star_8TeV_pythia6_Summer12_PU_S7_START52_V9_v1_V17_5_taus_0_agapitosJobXXX.py', mode 'r' at 0x1f10c28>\n",
        "<open file '/Users/bainbrid/Documents/WORK/susy/latest/SUSY2/samples/python/montecarlo/Summer12/FNAL/HCP//QCD_Pt_300to470_TuneZ2star_8TeV_pythia6_v3_Summer12_DR53X_PU_S10_START53_V7A_v1_V17_5_taus_0_agapitosJob502.py', mode 'r' at 0x1f10ac8>"
       ]
      },
      {
       "output_type": "stream",
       "stream": "stdout",
       "text": [
        "\n",
        "<open file '/Users/bainbrid/Documents/WORK/susy/latest/SUSY2/samples/python/montecarlo/Summer12/FNAL/HCP//QCD_Pt_30to50_TuneZ2star_8TeV_pythia6_Summer12_DR53X_PU_S10_START53_V7A_v1_V17_5_taus_0_agapitosJob448.py', mode 'r' at 0x1f10c28>\n",
        "<open file '/Users/bainbrid/Documents/WORK/susy/latest/SUSY2/samples/python/montecarlo/Summer12/FNAL/HCP//QCD_Pt_30to50_TuneZ2star_8TeV_pythia6_Summer12_PU_S7_START52_V9_v1_V17_5_taus_0_agapitosJobXXX.py', mode 'r' at 0x1f10ac8>\n",
        "<open file '/Users/bainbrid/Documents/WORK/susy/latest/SUSY2/samples/python/montecarlo/Summer12/FNAL/HCP//QCD_Pt_470to600_TuneZ2star_8TeV_pythia6_Summer12_DR53X_PU_S10_START53_V7A_v2_AODSIM_V17_5_taus_0_agapitosJobXXX.py', mode 'r' at 0x1f10c28>\n",
        "<open file '/Users/bainbrid/Documents/WORK/susy/latest/SUSY2/samples/python/montecarlo/Summer12/FNAL/HCP//QCD_Pt_470to600_TuneZ2star_8TeV_pythia6_Summer12_PU_S7_START52_V9_v1_V17_5_taus_0_agapitosJobXXX.py', mode 'r' at 0x1f10ac8>\n",
        "<open file '/Users/bainbrid/Documents/WORK/susy/latest/SUSY2/samples/python/montecarlo/Summer12/FNAL/HCP//QCD_Pt_50to80_TuneZ2star_8TeV_pythia6_Summer12_DR53X_PU_S10_START53_V7A_v1_AODSIM_V17_5_taus_0_agapitosJobXXX.py', mode 'r' at 0x1f10c28>\n",
        "<open file '/Users/bainbrid/Documents/WORK/susy/latest/SUSY2/samples/python/montecarlo/Summer12/FNAL/HCP//QCD_Pt_50to80_TuneZ2star_8TeV_pythia6_Summer12_PU_S7_START52_V9_v1_V17_5_taus_0_agapitosJobXXX.py', mode 'r' at 0x1f10ac8>\n",
        "<open file '/Users/bainbrid/Documents/WORK/susy/latest/SUSY2/samples/python/montecarlo/Summer12/FNAL/HCP//QCD_Pt_5to15_TuneZ2star_8TeV_pythia6_Summer12_PU_S7_START52_V9_v1_V17_5_taus_0_agapitosJobXXX.py', mode 'r' at 0x1f10c28>\n",
        "<open file '/Users/bainbrid/Documents/WORK/susy/latest/SUSY2/samples/python/montecarlo/Summer12/FNAL/HCP//QCD_Pt_600to800_TuneZ2star_8TeV_pythia6_Summer12_DR53X_PU_S10_START53_V7A_v2_AODSIM_V17_5_taus_0_agapitosJobXXX.py', mode 'r' at 0x1f10ac8>\n",
        "<open file '/Users/bainbrid/Documents/WORK/susy/latest/SUSY2/samples/python/montecarlo/Summer12/FNAL/HCP//QCD_Pt_600to800_TuneZ2star_8TeV_pythia6_Summer12_PU_S7_START52_V9_v1_V17_5_taus_0_agapitosJobXXX.py', mode 'r' at 0x1f10c28>\n",
        "<open file '/Users/bainbrid/Documents/WORK/susy/latest/SUSY2/samples/python/montecarlo/Summer12/FNAL/HCP//QCD_Pt_800to1000_TuneZ2star_8TeV_pythia6_Summer12_DR53X_PU_S10_START53_V7A_v1_AODSIM_V17_5_taus_0_agapitosJobXXX.py', mode 'r' at 0x1f10ac8>\n",
        "<open file '/Users/bainbrid/Documents/WORK/susy/latest/SUSY2/samples/python/montecarlo/Summer12/FNAL/HCP//QCD_Pt_800to1000_TuneZ2star_8TeV_pythia6_Summer12_PU_S7_START52_V9_v1_V17_5_taus_0_agapitosJobXXX.py', mode 'r' at 0x1f10c28>\n",
        "<open file '/Users/bainbrid/Documents/WORK/susy/latest/SUSY2/samples/python/montecarlo/Summer12/FNAL/HCP//QCD_Pt_80to120_TuneZ2star_8TeV_pythia6_Summer12_DR53X_PU_S10_START53_V7A_v3_AODSIM_V17_5_taus_0_agapitosJobXXX.py', mode 'r' at 0x1f10ac8>\n",
        "<open file '/Users/bainbrid/Documents/WORK/susy/latest/SUSY2/samples/python/montecarlo/Summer12/FNAL/HCP//QCD_Pt_80to120_TuneZ2star_8TeV_pythia6_Summer12_PU_S7_START52_V9_v1_V17_5_taus_0_agapitosJobXXX.py', mode 'r' at 0x1f10c28>\n",
        "<open file '/Users/bainbrid/Documents/WORK/susy/latest/SUSY2/samples/python/montecarlo/Summer12/FNAL/HCP//SMS_MadGraph_Pythia6Zstar_8TeV_T1t1t_2J_mGo_1000_mStop_350to750_mLSP_100to500_50GeVX50GeV_Binning_Summer12_START52_V9_FSIM_v1_V17_16_taus_0_scan_T1tt1_Madgraph_beamHaloVars_0_pdfSets_MSTW2008nlo68cl_LHgrid_mstoyeJob628.py', mode 'r' at 0x1f10ac8>\n",
        "<open file '/Users/bainbrid/Documents/WORK/susy/latest/SUSY2/samples/python/montecarlo/Summer12/FNAL/HCP//SMS_MadGraph_Pythia6Zstar_8TeV_T1t1t_2J_mGo_1000_mStop_775to825_mLSP_575to725_25GeVX25GeV_Binning_Summer12_START52_V9_FSIM_v1_V17_16_taus_0_scan_T1tt1_Madgraph_beamHaloVars_0_pdfSets_MSTW2008nlo68cl_LHgrid_mstoyeJob629.py', mode 'r' at 0x1f10c28>\n",
        "<open file '/Users/bainbrid/Documents/WORK/susy/latest/SUSY2/samples/python/montecarlo/Summer12/FNAL/HCP//SMS_MadGraph_Pythia6Zstar_8TeV_T1t1t_2J_mGo_1000_mStop_800to800_mLSP_100to550_50GeVX50GeV_Binning_Summer12_START52_V9_FSIM_v1_V17_16_taus_0_scan_T1tt1_Madgraph_beamHaloVars_0_pdfSets_MSTW2008nlo68cl_LHgrid_mstoyeJob630.py', mode 'r' at 0x1f10ac8>\n",
        "<open file '/Users/bainbrid/Documents/WORK/susy/latest/SUSY2/samples/python/montecarlo/Summer12/FNAL/HCP//SMS_MadGraph_Pythia6Zstar_8TeV_T1tttt_2J_mGo_1100to1400_mLSP_1025to1200_50GeVX50GeV_Binning_Summer12_START52_V9_FSIM_v1_V17_15_taus_0_scan_T1tttt_Madgraph_beamHaloVars_0_pdfSets_MSTW2008nlo68cl_LHgrid_gouskosJob604.py', mode 'r' at 0x1f10c28>\n",
        "<open file '/Users/bainbrid/Documents/WORK/susy/latest/SUSY2/samples/python/montecarlo/Summer12/FNAL/HCP//SMS_MadGraph_Pythia6Zstar_8TeV_T1tttt_2J_mGo_1100to1400_mLSP_1025to1200_50GeVX50GeV_Binning_Summer12_START52_V9_FSIM_v1_V17_15_taus_0_scan_T1tttt_Madgraph_beamHaloVars_0_pdfSets_NNPDF21_100_LHgrid_CT10_LHgrid_gouskosJob612.py', mode 'r' at 0x1f10ac8>\n",
        "<open file '/Users/bainbrid/Documents/WORK/susy/latest/SUSY2/samples/python/montecarlo/Summer12/FNAL/HCP//SMS_MadGraph_Pythia6Zstar_8TeV_T1tttt_2J_mGo_1100to1400_mLSP_25to500_50GeVX50GeV_Binning_Summer12_START52_V9_FSIM_v2_V17_15_taus_0_scan_T1tttt_Madgraph_beamHaloVars_0_pdfSets_NNPDF21_100_LHgrid_CT10_LHgrid_gouskosJob610.py', mode 'r' at 0x1f10c28>\n",
        "<open file '/Users/bainbrid/Documents/WORK/susy/latest/SUSY2/samples/python/montecarlo/Summer12/FNAL/HCP//SMS_MadGraph_Pythia6Zstar_8TeV_T1tttt_2J_mGo_1100to1400_mLSP_525to1000_25GeVX25GeV_Binning_Summer12_START52_V9_FSIM_v2_V17_15_taus_0_scan_T1tttt_Madgraph_beamHaloVars_0_pdfSets_NNPDF21_100_LHgrid_CT10_LHgrid_gouskosJob611.py', mode 'r' at 0x1f10ac8>"
       ]
      },
      {
       "output_type": "stream",
       "stream": "stdout",
       "text": [
        "\n",
        "<open file '/Users/bainbrid/Documents/WORK/susy/latest/SUSY2/samples/python/montecarlo/Summer12/FNAL/HCP//SMS_MadGraph_Pythia6Zstar_8TeV_T1tttt_2J_mGo_400to750_mLSP_1_50GeVX50GeV_Binning_Summer12_START52_V9_FSIM_v1_V17_15_taus_0_scan_T1tttt_Madgraph_beamHaloVars_0_pdfSets_NNPDF21_100_LHgrid_CT10_LHgrid_gouskosJob605.py', mode 'r' at 0x1f10c28>\n",
        "<open file '/Users/bainbrid/Documents/WORK/susy/latest/SUSY2/samples/python/montecarlo/Summer12/FNAL/HCP//SMS_MadGraph_Pythia6Zstar_8TeV_T1tttt_2J_mGo_400to750_mLSP_25to550_50GeVX50GeV_Binning_Summer12_START52_V9_FSIM_v1_V17_15_taus_0_scan_T1tttt_Madgraph_beamHaloVars_0_pdfSets_MSTW2008nlo68cl_LHgrid_gouskosJob599.py', mode 'r' at 0x1f10ac8>\n",
        "<open file '/Users/bainbrid/Documents/WORK/susy/latest/SUSY2/samples/python/montecarlo/Summer12/FNAL/HCP//SMS_MadGraph_Pythia6Zstar_8TeV_T1tttt_2J_mGo_400to750_mLSP_25to550_50GeVX50GeV_Binning_Summer12_START52_V9_FSIM_v1_V17_15_taus_0_scan_T1tttt_Madgraph_beamHaloVars_0_pdfSets_NNPDF21_100_LHgrid_CT10_LHgrid_gouskosJob607.py', mode 'r' at 0x1f10c28>\n",
        "<open file '/Users/bainbrid/Documents/WORK/susy/latest/SUSY2/samples/python/montecarlo/Summer12/FNAL/HCP//SMS_MadGraph_Pythia6Zstar_8TeV_T1tttt_2J_mGo_775to1075_mLSP_25to500_50GeVX50GeV_Binning_Summer12_START52_V9_FSIM_v1_V17_15_taus_0_scan_T1tttt_Madgraph_beamHaloVars_0_pdfSets_MSTW2008nlo68cl_LHgrid_gouskosJob600.py', mode 'r' at 0x1f10ac8>\n",
        "<open file '/Users/bainbrid/Documents/WORK/susy/latest/SUSY2/samples/python/montecarlo/Summer12/FNAL/HCP//SMS_MadGraph_Pythia6Zstar_8TeV_T1tttt_2J_mGo_775to1075_mLSP_25to500_50GeVX50GeV_Binning_Summer12_START52_V9_FSIM_v1_V17_15_taus_0_scan_T1tttt_Madgraph_beamHaloVars_0_pdfSets_NNPDF21_100_LHgrid_CT10_LHgrid_gouskosJob608.py', mode 'r' at 0x1f10c28>\n",
        "<open file '/Users/bainbrid/Documents/WORK/susy/latest/SUSY2/samples/python/montecarlo/Summer12/FNAL/HCP//SMS_MadGraph_Pythia6Zstar_8TeV_T1tttt_2J_mGo_775to1075_mLSP_525to875_50GeVX50GeV_Binning_Summer12_START52_V9_FSIM_v2_V17_15_taus_0_scan_T1tttt_Madgraph_beamHaloVars_0_pdfSets_NNPDF21_100_LHgrid_CT10_LHgrid_gouskosJob609.py', mode 'r' at 0x1f10ac8>\n",
        "<open file '/Users/bainbrid/Documents/WORK/susy/latest/SUSY2/samples/python/montecarlo/Summer12/FNAL/HCP//SMS_MadGraph_Pythia6Zstar_8TeV_T1tttt_2J_mGo_800to1400_mLSP_1_50GeVX50GeV_Binning_Summer12_START52_V9_FSIM_v2_V17_15_taus_0_scan_T1tttt_Madgraph_beamHaloVars_0_pdfSets_MSTW2008nlo68cl_LHgrid_gouskosJob598.py', mode 'r' at 0x1f10c28>\n",
        "<open file '/Users/bainbrid/Documents/WORK/susy/latest/SUSY2/samples/python/montecarlo/Summer12/FNAL/HCP//SMS_MadGraph_Pythia6Zstar_8TeV_T1tttt_2J_mGo_800to1400_mLSP_1_50GeVX50GeV_Binning_Summer12_START52_V9_FSIM_v2_V17_15_taus_0_scan_T1tttt_Madgraph_beamHaloVars_0_pdfSets_NNPDF21_100_LHgrid_CT10_LHgrid_gouskosJob606.py', mode 'r' at 0x1f10ac8>\n",
        "<open file '/Users/bainbrid/Documents/WORK/susy/latest/SUSY2/samples/python/montecarlo/Summer12/FNAL/HCP//SMS_T1_Mgluino_100to2000_mLSP_0to2000_8TeV_Pythia6Z_Summer12_START52_V9_FSIM_v1_V17_8_taus_0_scan_T1_beamHaloVars_0_yeshaqJob444.py', mode 'r' at 0x1f10c28>\n",
        "<open file '/Users/bainbrid/Documents/WORK/susy/latest/SUSY2/samples/python/montecarlo/Summer12/FNAL/HCP//SMS_T1bbbb_Mgluino_100to2000_mLSP_0to2000_8TeV_Pythia6Z_Summer12_START52_V9_FSIM_v1_V17_8_taus_0_scan_T1bbbb_beamHaloVars_0_yeshaqJob443.py', mode 'r' at 0x1f10ac8>\n",
        "<open file '/Users/bainbrid/Documents/WORK/susy/latest/SUSY2/samples/python/montecarlo/Summer12/FNAL/HCP//SMS_T1tttt_Mgluino_350to2000_mLSP_0to1650_8TeV_Pythia6Z_Summer12_START52_V9_FSIM_v3_V17_8_taus_0_scan_T1tttt_beamHaloVars_0_yeshaqJob442.py', mode 'r' at 0x1f10c28>"
       ]
      },
      {
       "output_type": "stream",
       "stream": "stdout",
       "text": [
        "\n",
        "<open file '/Users/bainbrid/Documents/WORK/susy/latest/SUSY2/samples/python/montecarlo/Summer12/FNAL/HCP//SMS_T2_Msquark_225to1200_mLSP_0to1200_8TeV_Pythia6Z_Summer12_START52_V9_FSIM_v1_V17_8_taus_0_scan_T2_beamHaloVars_0_yeshaqJob446.py', mode 'r' at 0x1f10ac8>\n",
        "<open file '/Users/bainbrid/Documents/WORK/susy/latest/SUSY2/samples/python/montecarlo/Summer12/FNAL/HCP//SMS_T2bb_Msbottom_225to1200_mLSP_0to1175_8TeV_Pythia6Z_Summer12_START52_V9_FSIM_v2_V17_5_taus_0_scan_T2bb_beamHaloVars_0_yeshaqJob418.py', mode 'r' at 0x1f10c28>\n",
        "<open file '/Users/bainbrid/Documents/WORK/susy/latest/SUSY2/samples/python/montecarlo/Summer12/FNAL/HCP//SMS_T2bw_FineBin_Mstop_100to600_mLSP_0to500_8TeV_Pythia6Z_Summer12_START52_V9_FSIM_v4_V17_8_taus_0_scan_T2bw_beamHaloVars_0_clucasJob489.py', mode 'r' at 0x1f10ac8>\n",
        "<open file '/Users/bainbrid/Documents/WORK/susy/latest/SUSY2/samples/python/montecarlo/Summer12/FNAL/HCP//SMS_T2tt_FineBin_Mstop_225to1200_mLSP_0to1000_8TeV_Pythia6Z_Summer12_START52_V9_FSIM_v1_V17_8_taus_0_scan_T2tt_beamHaloVars_0_yeshaqJob445.py', mode 'r' at 0x1f10c28>"
       ]
      },
      {
       "output_type": "stream",
       "stream": "stdout",
       "text": [
        "\n",
        "<open file '/Users/bainbrid/Documents/WORK/susy/latest/SUSY2/samples/python/montecarlo/Summer12/FNAL/HCP//T_s_channel_TuneZ2star_8TeV_powheg_tauola_Summer12_DR53X_PU_S10_START53_V7A_v1_V17_5_taus_0_zmengJob368.py', mode 'r' at 0x1f10ac8>\n",
        "<open file '/Users/bainbrid/Documents/WORK/susy/latest/SUSY2/samples/python/montecarlo/Summer12/FNAL/HCP//T_t_channel_TuneZ2star_8TeV_powheg_tauola_Summer12_DR53X_PU_S10_START53_V7A_v1_V17_5_taus_0_zmengJob368.py', mode 'r' at 0x1f10c28>\n",
        "<open file '/Users/bainbrid/Documents/WORK/susy/latest/SUSY2/samples/python/montecarlo/Summer12/FNAL/HCP//T_tW_channel_DR_TuneZ2star_8TeV_powheg_tauola_Summer12_DR53X_PU_S10_START53_V7A_v1_V17_5_taus_0_zmengJob368.py', mode 'r' at 0x1f10ac8>\n",
        "<open file '/Users/bainbrid/Documents/WORK/susy/latest/SUSY2/samples/python/montecarlo/Summer12/FNAL/HCP//Tbar_s_channel_TuneZ2star_8TeV_powheg_tauola_Summer12_DR53X_PU_S10_START53_V7A_v1_V17_5_taus_0_zmengJob368.py', mode 'r' at 0x1f10c28>\n",
        "<open file '/Users/bainbrid/Documents/WORK/susy/latest/SUSY2/samples/python/montecarlo/Summer12/FNAL/HCP//Tbar_t_channel_TuneZ2star_8TeV_powheg_tauola_Summer12_DR53X_PU_S10_START53_V7A_v1_V17_5_taus_0_zmengJob368.py', mode 'r' at 0x1f10ac8>\n",
        "<open file '/Users/bainbrid/Documents/WORK/susy/latest/SUSY2/samples/python/montecarlo/Summer12/FNAL/HCP//Tbar_tW_channel_DR_TuneZ2star_8TeV_powheg_tauola_Summer12_DR53X_PU_S10_START53_V7A_v1_V17_5_taus_0_zmengJob368.py', mode 'r' at 0x1f10c28>\n",
        "<open file '/Users/bainbrid/Documents/WORK/susy/latest/SUSY2/samples/python/montecarlo/Summer12/FNAL/HCP//TT_CT10_TuneZ2star_8TeV_powheg_tauola_Summer12_DR53X_PU_S10_START53_V7A_V17_5_taus.py', mode 'r' at 0x1f10ac8>\n",
        "<open file '/Users/bainbrid/Documents/WORK/susy/latest/SUSY2/samples/python/montecarlo/Summer12/FNAL/HCP//TT_CT10_TuneZ2star_8TeV_powheg_tauola_Summer12_DR53X_PU_S10_START53_V7A_v1_V17_5_taus_0_clucasJob410.py', mode 'r' at 0x1f10c28>\n",
        "<open file '/Users/bainbrid/Documents/WORK/susy/latest/SUSY2/samples/python/montecarlo/Summer12/FNAL/HCP//TT_CT10_TuneZ2star_8TeV_powheg_tauola_Summer12_DR53X_PU_S10_START53_V7A_v2_V17_5_taus_0_zmengJob404.py', mode 'r' at 0x1f10ac8>\n",
        "<open file '/Users/bainbrid/Documents/WORK/susy/latest/SUSY2/samples/python/montecarlo/Summer12/FNAL/HCP//TTJets_FullLeptMGDecays_8TeV_madgraph_Summer12_DR53X_PU_S10_START53_V7A_v2_V17_5_taus_0_gouskosJob490.py', mode 'r' at 0x1f10c28>\n",
        "<open file '/Users/bainbrid/Documents/WORK/susy/latest/SUSY2/samples/python/montecarlo/Summer12/FNAL/HCP//TTJets_MassiveBinDECAY_TuneZ2star_8TeV_madgraph_tauola_Summer12_DR53X_PU_S10_START53_V7A_v1_V17_5_taus_0_clucasJob366.py', mode 'r' at 0x1f10ac8>\n",
        "<open file '/Users/bainbrid/Documents/WORK/susy/latest/SUSY2/samples/python/montecarlo/Summer12/FNAL/HCP//TTJets_matchingdown_TuneZ2star_8TeV_madgraph_tauola_Summer12_DR53X_PU_S10_START53_V7A_v1_V17_5_taus_0_clucasJob441.py', mode 'r' at 0x1f10c28>\n",
        "<open file '/Users/bainbrid/Documents/WORK/susy/latest/SUSY2/samples/python/montecarlo/Summer12/FNAL/HCP//TTJets_matchingup_TuneZ2star_8TeV_madgraph_tauola_Summer12_DR53X_PU_S10_START53_V7A_v1_V17_5_taus_0_clucasJob441.py', mode 'r' at 0x1f10ac8>\n",
        "<open file '/Users/bainbrid/Documents/WORK/susy/latest/SUSY2/samples/python/montecarlo/Summer12/FNAL/HCP//TTJets_scaledown_TuneZ2star_8TeV_madgraph_tauola_Summer12_DR53X_PU_S10_START53_V7A_v1_V17_5_taus_0_clucasJob441.py', mode 'r' at 0x1f10c28>\n",
        "<open file '/Users/bainbrid/Documents/WORK/susy/latest/SUSY2/samples/python/montecarlo/Summer12/FNAL/HCP//TTJets_scaleup_TuneZ2star_8TeV_madgraph_tauola_Summer12_DR53X_PU_S10_START53_V7A_v1_V17_5_taus_0_clucasJob441.py', mode 'r' at 0x1f10ac8>\n",
        "<open file '/Users/bainbrid/Documents/WORK/susy/latest/SUSY2/samples/python/montecarlo/Summer12/FNAL/HCP//TTJets_SemiLeptMGDecays_8TeV_madgraph_Summer12_DR53X_PU_S10_START53_V7A_ext_v1_V17_5_taus_0_gouskosJob491.py', mode 'r' at 0x1f10c28>\n",
        "<open file '/Users/bainbrid/Documents/WORK/susy/latest/SUSY2/samples/python/montecarlo/Summer12/FNAL/HCP//TTTo2L2Nu2B_8TeV_powheg_pythia6_Summer12_DR53X_PU_S10_START53_V7A_v1_V17_5_taus_0_gouskosJob438.py', mode 'r' at 0x1f10ac8>"
       ]
      },
      {
       "ename": "IndexError",
       "evalue": "list index out of range",
       "output_type": "pyerr",
       "traceback": [
        "\u001b[0;31m---------------------------------------------------------------------------\u001b[0m\n\u001b[0;31mIndexError\u001b[0m                                Traceback (most recent call last)",
        "\u001b[0;32m<ipython-input-105-843a2bebed16>\u001b[0m in \u001b[0;36m<module>\u001b[0;34m()\u001b[0m\n\u001b[1;32m     34\u001b[0m \u001b[0;34m\u001b[0m\u001b[0m\n\u001b[1;32m     35\u001b[0m     \u001b[0mcore\u001b[0m \u001b[0;34m=\u001b[0m \u001b[0;34m\"store/user/lpcsusyra1\"\u001b[0m\u001b[0;34m\u001b[0m\u001b[0m\n\u001b[0;32m---> 36\u001b[0;31m     \u001b[0mpaths\u001b[0m \u001b[0;34m=\u001b[0m \u001b[0;34m[\u001b[0m \u001b[0mcore\u001b[0m\u001b[0;34m+\u001b[0m\u001b[0mline\u001b[0m\u001b[0;34m.\u001b[0m\u001b[0msplit\u001b[0m\u001b[0;34m(\u001b[0m\u001b[0mcore\u001b[0m\u001b[0;34m)\u001b[0m\u001b[0;34m[\u001b[0m\u001b[0;36m1\u001b[0m\u001b[0;34m]\u001b[0m\u001b[0;34m.\u001b[0m\u001b[0mreplace\u001b[0m\u001b[0;34m(\u001b[0m\u001b[0;34m\"//\"\u001b[0m\u001b[0;34m,\u001b[0m\u001b[0;34m\"/\"\u001b[0m\u001b[0;34m)\u001b[0m\u001b[0;34m.\u001b[0m\u001b[0msplit\u001b[0m\u001b[0;34m(\u001b[0m\u001b[0;34m\".root\"\u001b[0m\u001b[0;34m)\u001b[0m\u001b[0;34m[\u001b[0m\u001b[0;36m0\u001b[0m\u001b[0;34m]\u001b[0m\u001b[0;34m.\u001b[0m\u001b[0mstrip\u001b[0m\u001b[0;34m(\u001b[0m\u001b[0;34m)\u001b[0m\u001b[0;34m+\u001b[0m\u001b[0;34m\".root\"\u001b[0m \u001b[0;32mfor\u001b[0m \u001b[0mline\u001b[0m \u001b[0;32min\u001b[0m \u001b[0mlines\u001b[0m \u001b[0;32mif\u001b[0m \u001b[0mline\u001b[0m\u001b[0;34m.\u001b[0m\u001b[0mcount\u001b[0m\u001b[0;34m(\u001b[0m\u001b[0;34m\"://\"\u001b[0m\u001b[0;34m)\u001b[0m \u001b[0;34m>\u001b[0m \u001b[0;36m0\u001b[0m \u001b[0;34m]\u001b[0m\u001b[0;34m\u001b[0m\u001b[0m\n\u001b[0m\u001b[1;32m     37\u001b[0m \u001b[0;34m\u001b[0m\u001b[0m\n\u001b[1;32m     38\u001b[0m     \u001b[0md\u001b[0m\u001b[0;34m[\u001b[0m\u001b[0mdataset\u001b[0m\u001b[0;34m]\u001b[0m \u001b[0;34m=\u001b[0m \u001b[0mpaths\u001b[0m\u001b[0;34m\u001b[0m\u001b[0m\n",
        "\u001b[0;31mIndexError\u001b[0m: list index out of range"
       ]
      },
      {
       "output_type": "stream",
       "stream": "stdout",
       "text": [
        "\n",
        "<open file '/Users/bainbrid/Documents/WORK/susy/latest/SUSY2/samples/python/montecarlo/Summer12/FNAL/HCP//TTWJets_8TeV_madgraph_Summer12_DR53X_PU_S10_START53_V7A_v1_V17_5_taus_0_agapitosJob570.py', mode 'r' at 0x1f10c28>\n"
       ]
      }
     ],
     "prompt_number": 105
    }
   ],
   "metadata": {}
  }
 ]
}