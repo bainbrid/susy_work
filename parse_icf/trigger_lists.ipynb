{
 "metadata": {
  "name": "trigger_lists"
 },
 "nbformat": 3,
 "nbformat_minor": 0,
 "worksheets": [
  {
   "cells": [
    {
     "cell_type": "code",
     "collapsed": false,
     "input": [
      "\n",
      "ht_bins = [\n",
      "    \"175_275\",\n",
      "    \"275_325\",\n",
      "    \"325_375\",\n",
      "    \"375_475\",\n",
      "    \"475_575\",\n",
      "    \"575_675\",\n",
      "    \"675_775\",\n",
      "    \"775_875\",\n",
      "    \"875\",\n",
      "]\n",
      "\n",
      "ht_trigger_list = [\n",
      "    [\"HLT_HT200_v*\",],\n",
      "    [\"HLT_HT200_v*\",],\n",
      "    [\"HLT_HT250_v*\",],\n",
      "    [\"HLT_HT300_v*\",],\n",
      "    [\"HLT_HT350_v*\",],\n",
      "    [\"HLT_HT400_v*\",\"HLT_HT450_v*\",],\n",
      "    [\"HLT_HT500_v*\",\"HLT_HT550_v*\",],\n",
      "    [\"HLT_HT600_v*\",\"HLT_HT650_v*\",],\n",
      "    [\"HLT_HT700_v*\",\"HLT_HT750_v*\",],\n",
      "    [\"HLT_HT750_v*\",],\n",
      "]\n",
      "\n",
      "ht_triggers = {\n",
      "    \"175_275\":[\"HLT_HT200_v*\",],\n",
      "    \"275_325\":[\"HLT_HT250_v*\",],\n",
      "    \"325_375\":[\"HLT_HT300_v*\",],\n",
      "    \"375_475\":[\"HLT_HT350_v*\",],\n",
      "    \"475_575\":[\"HLT_HT450_v*\",],\n",
      "    \"575_675\":[\"HLT_HT450_v*\",],\n",
      "    \"675_775\":[\"HLT_HT450_v*\",],\n",
      "    \"775_875\":[\"HLT_HT450_v*\",],\n",
      "    \"875\":[\"HLT_HT450_v*\",],\n",
      "}\n",
      "\n",
      "ht_triggers_new = { bin for bin in ht_bins : x for x in ht_trigger_list }\n",
      "\n",
      "print ht_bins \n",
      "print ht_trigger_list\n",
      "print ht_triggers\n"
     ],
     "language": "python",
     "metadata": {},
     "outputs": [
      {
       "ename": "SyntaxError",
       "evalue": "invalid syntax (<ipython-input-1-7180adaa4198>, line 39)",
       "output_type": "pyerr",
       "traceback": [
        "\u001b[0;36m  File \u001b[0;32m\"<ipython-input-1-7180adaa4198>\"\u001b[0;36m, line \u001b[0;32m39\u001b[0m\n\u001b[0;31m    ht_triggers_new = { bin for bin in ht_bins : x for x in ht_trigger_list }\u001b[0m\n\u001b[0m                                               ^\u001b[0m\n\u001b[0;31mSyntaxError\u001b[0m\u001b[0;31m:\u001b[0m invalid syntax\n"
       ]
      }
     ],
     "prompt_number": 1
    }
   ],
   "metadata": {}
  }
 ]
}