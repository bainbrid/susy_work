{
 "metadata": {
  "name": "filter_du_output"
 },
 "nbformat": 3,
 "nbformat_minor": 0,
 "worksheets": [
  {
   "cells": [
    {
     "cell_type": "code",
     "collapsed": false,
     "input": [
      "%run /Users/bainbrid/Documents/WORK/susy/inventory/susy_work/utils/filter_du_output.py"
     ],
     "language": "python",
     "metadata": {},
     "outputs": [],
     "prompt_number": 28
    },
    {
     "cell_type": "code",
     "collapsed": false,
     "input": [
      "print total\n",
      "print total_ra1\n",
      "print total_ra4\n",
      " "
     ],
     "language": "python",
     "metadata": {},
     "outputs": [
      {
       "output_type": "stream",
       "stream": "stdout",
       "text": [
        "['2.9T\\t/pnfs/cms/WAX/11/store/user/lpcsusyra1/clucas\\n', '757G\\t/pnfs/cms/WAX/11/store/user/lpcsusyra1/nsaoulid\\n', '1.5K\\t/pnfs/cms/WAX/11/store/user/lpcsusyra1/henning\\n', '26T\\t/pnfs/cms/WAX/11/store/user/lpcsusyra1/yeshaq\\n', '4.2G\\t/pnfs/cms/WAX/11/store/user/lpcsusyra1/samples\\n', '1.9T\\t/pnfs/cms/WAX/11/store/user/lpcsusyra1/zmeng\\n', '5.9T\\t/pnfs/cms/WAX/11/store/user/lpcsusyra1/agapitos\\n', '25G\\t/pnfs/cms/WAX/11/store/user/lpcsusyra1/dburton\\n', '1.5K\\t/pnfs/cms/WAX/11/store/user/lpcsusyra1/samr\\n', '488G\\t/pnfs/cms/WAX/11/store/user/lpcsusyra1/mstoye\\n', '4.6T\\t/pnfs/cms/WAX/11/store/user/lpcsusyra1/gouskos\\n', '2.4T\\t/pnfs/cms/WAX/11/store/user/lpcsusyra1/karage\\n', '2.1T\\t/pnfs/cms/WAX/11/store/user/lpcsusyra1/georgia\\n']\n",
        "['2.9T\\t/pnfs/cms/WAX/11/store/user/lpcsusyra1/clucas\\n', '1.5K\\t/pnfs/cms/WAX/11/store/user/lpcsusyra1/henning\\n', '1.9T\\t/pnfs/cms/WAX/11/store/user/lpcsusyra1/zmeng\\n', '25G\\t/pnfs/cms/WAX/11/store/user/lpcsusyra1/dburton\\n', '1.5K\\t/pnfs/cms/WAX/11/store/user/lpcsusyra1/samr\\n']\n",
        "['757G\\t/pnfs/cms/WAX/11/store/user/lpcsusyra1/nsaoulid\\n', '5.9T\\t/pnfs/cms/WAX/11/store/user/lpcsusyra1/agapitos\\n', '488G\\t/pnfs/cms/WAX/11/store/user/lpcsusyra1/mstoye\\n', '2.4T\\t/pnfs/cms/WAX/11/store/user/lpcsusyra1/karage\\n', '2.1T\\t/pnfs/cms/WAX/11/store/user/lpcsusyra1/georgia\\n']\n"
       ]
      }
     ],
     "prompt_number": 29
    }
   ],
   "metadata": {}
  }
 ]
}